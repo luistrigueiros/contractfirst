{
 "cells": [
  {
   "cell_type": "code",
   "execution_count": 10,
   "metadata": {
    "collapsed": true,
    "ExecuteTime": {
     "end_time": "2024-02-29T14:36:30.349719400Z",
     "start_time": "2024-02-29T14:36:30.173719700Z"
    }
   },
   "outputs": [],
   "source": [
    "%use khttp\n",
    "\n",
    "import khttp.get\n",
    "import khttp.structures.authorization.BasicAuthorization"
   ]
  },
  {
   "cell_type": "code",
   "outputs": [],
   "source": [
    "\n",
    "val r = get(\"http://localhost:8080/university/api/v1/courses\", auth = BasicAuthorization(\"user\", \"passwd\"))"
   ],
   "metadata": {
    "collapsed": false,
    "ExecuteTime": {
     "end_time": "2024-02-29T14:36:40.200281800Z",
     "start_time": "2024-02-29T14:36:39.605510Z"
    }
   },
   "execution_count": 11
  },
  {
   "cell_type": "code",
   "outputs": [
    {
     "data": {
      "text/plain": "200"
     },
     "execution_count": 12,
     "metadata": {},
     "output_type": "execute_result"
    }
   ],
   "source": [
    "r.statusCode"
   ],
   "metadata": {
    "collapsed": false,
    "ExecuteTime": {
     "end_time": "2024-02-29T14:36:57.113227500Z",
     "start_time": "2024-02-29T14:36:57.030303400Z"
    }
   },
   "execution_count": 12
  },
  {
   "cell_type": "code",
   "outputs": [
    {
     "data": {
      "text/plain": "{Keep-Alive=timeout=60, Transfer-Encoding=chunked, X-Content-Type-Options=nosniff, Connection=keep-alive, Pragma=no-cache, Date=Thu, 29 Feb 2024 14:36:40 GMT, X-Frame-Options=DENY, Cache-Control=no-cache, no-store, max-age=0, must-revalidate, Vary=Access-Control-Request-Headers, Access-Control-Request-Method, Origin, Expires=0, X-XSS-Protection=0, Content-Type=application/json}"
     },
     "execution_count": 13,
     "metadata": {},
     "output_type": "execute_result"
    }
   ],
   "source": [
    "r.headers"
   ],
   "metadata": {
    "collapsed": false,
    "ExecuteTime": {
     "end_time": "2024-02-29T14:37:18.174625Z",
     "start_time": "2024-02-29T14:37:18.099624700Z"
    }
   },
   "execution_count": 13
  },
  {
   "cell_type": "code",
   "outputs": [
    {
     "data": {
      "text/plain": "[{\"courseId\":1,\"courseName\":\"Computer Science\",\"courseDuration\":\"4\",\"courseType\":\"Engineering\"},{\"courseId\":2,\"courseName\":\"Mechanical Engineering\",\"courseDuration\":\"4\",\"courseType\":\"Engineering\"},{\"courseId\":3,\"courseName\":\"Microbiology\",\"courseDuration\":\"4\",\"courseType\":\"Medical\"}]"
     },
     "execution_count": 14,
     "metadata": {},
     "output_type": "execute_result"
    }
   ],
   "source": [
    "r.text"
   ],
   "metadata": {
    "collapsed": false,
    "ExecuteTime": {
     "end_time": "2024-02-29T14:37:41.556952500Z",
     "start_time": "2024-02-29T14:37:41.492948400Z"
    }
   },
   "execution_count": 14
  },
  {
   "cell_type": "code",
   "outputs": [
    {
     "data": {
      "text/plain": "[{\"courseName\":\"Computer Science\",\"courseType\":\"Engineering\",\"courseDuration\":\"4\",\"courseId\":1},{\"courseName\":\"Mechanical Engineering\",\"courseType\":\"Engineering\",\"courseDuration\":\"4\",\"courseId\":2},{\"courseName\":\"Microbiology\",\"courseType\":\"Medical\",\"courseDuration\":\"4\",\"courseId\":3}]"
     },
     "execution_count": 16,
     "metadata": {},
     "output_type": "execute_result"
    }
   ],
   "source": [
    "r.jsonArray"
   ],
   "metadata": {
    "collapsed": false,
    "ExecuteTime": {
     "end_time": "2024-02-29T14:38:14.864097700Z",
     "start_time": "2024-02-29T14:38:14.793677600Z"
    }
   },
   "execution_count": 16
  }
 ],
 "metadata": {
  "kernelspec": {
   "display_name": "Kotlin",
   "language": "kotlin",
   "name": "kotlin"
  },
  "language_info": {
   "name": "kotlin",
   "version": "1.9.0",
   "mimetype": "text/x-kotlin",
   "file_extension": ".kt",
   "pygments_lexer": "kotlin",
   "codemirror_mode": "text/x-kotlin",
   "nbconvert_exporter": ""
  },
  "ktnbPluginMetadata": {
   "projectDependencies": [
    "contractfirst.main",
    "contractfirst.test"
   ]
  }
 },
 "nbformat": 4,
 "nbformat_minor": 0
}
